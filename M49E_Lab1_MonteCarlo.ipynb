{
 "cells": [
  {
   "cell_type": "code",
   "execution_count": 1,
   "id": "b519db55",
   "metadata": {},
   "outputs": [],
   "source": [
    "import random\n",
    "import math"
   ]
  },
  {
   "cell_type": "code",
   "execution_count": 2,
   "id": "c71d7253",
   "metadata": {},
   "outputs": [],
   "source": [
    "# the number of sample points\n",
    "n = 100\n",
    "\n",
    "# the number of sample points inside the unit circle\n",
    "inside = 0  "
   ]
  },
  {
   "cell_type": "code",
   "execution_count": 3,
   "id": "4f85e2f6",
   "metadata": {},
   "outputs": [
    {
     "name": "stdout",
     "output_type": "stream",
     "text": [
      "71\n"
     ]
    }
   ],
   "source": [
    "for i in range(0,n):\n",
    "    x = random.random()\n",
    "    y = random.random()\n",
    "    if ((x**2+y**2) <= 1):\n",
    "        inside += 1\n",
    "        \n",
    "print(inside)"
   ]
  },
  {
   "cell_type": "markdown",
   "id": "bf9cc8d3",
   "metadata": {},
   "source": [
    "Now it's your turn: the sampling again, but this time, find the number of points outside the unit circle."
   ]
  },
  {
   "cell_type": "code",
   "execution_count": 4,
   "id": "5aea9fca",
   "metadata": {},
   "outputs": [
    {
     "name": "stdout",
     "output_type": "stream",
     "text": [
      "22\n"
     ]
    }
   ],
   "source": [
    "# the number of sample points outside the unit circle\n",
    "outside = 0\n",
    "\n",
    "for i in range(0,n):\n",
    "    x = random.random()\n",
    "    y = random.random()\n",
    "    if ((x**2+y**2) > 1):\n",
    "        outside += 1\n",
    "        \n",
    "print(outside)"
   ]
  },
  {
   "cell_type": "code",
   "execution_count": 5,
   "id": "d93b8996",
   "metadata": {},
   "outputs": [
    {
     "name": "stdout",
     "output_type": "stream",
     "text": [
      "2.84\n"
     ]
    }
   ],
   "source": [
    "# multiply the ratio by 4 to find a value for \"pi\"\n",
    "pi = inside/n * 4\n",
    "print(pi)"
   ]
  },
  {
   "cell_type": "code",
   "execution_count": 6,
   "id": "b7659db9",
   "metadata": {},
   "outputs": [
    {
     "data": {
      "text/plain": [
       "[<matplotlib.lines.Line2D at 0x7f938ce015e0>]"
      ]
     },
     "execution_count": 6,
     "metadata": {},
     "output_type": "execute_result"
    },
    {
     "data": {
      "image/png": "[encoded data removed]",
      "text/plain": [
       "<Figure size 432x288 with 1 Axes>"
      ]
     },
     "metadata": {
      "needs_background": "light"
     },
     "output_type": "display_data"
    }
   ],
   "source": [
    "import matplotlib.pyplot as plt\n",
    "            \n",
    "plt.plot(x, y, 'bo') "
   ]
  },
  {
   "cell_type": "code",
   "execution_count": 7,
   "id": "160f9530",
   "metadata": {},
   "outputs": [
    {
     "data": {
      "text/plain": [
       "3.141592653589793"
      ]
     },
     "execution_count": 7,
     "metadata": {},
     "output_type": "execute_result"
    }
   ],
   "source": [
    "# Hint: the math.pi constant returns the value of PI = 3.141592653589793.\n",
    "math.pi"
   ]
  },
  {
   "cell_type": "code",
   "execution_count": 8,
   "id": "36bcac52",
   "metadata": {},
   "outputs": [
    {
     "name": "stdout",
     "output_type": "stream",
     "text": [
      "Absolute value of the error is 0.30159265358979326\n"
     ]
    }
   ],
   "source": [
    "error = abs(pi - math.pi)\n",
    "\n",
    "print('Absolute value of the error is', error)"
   ]
  },
  {
   "cell_type": "markdown",
   "id": "a5fc28a4",
   "metadata": {},
   "source": [
    "Let's visualize the Monte Carlo method! Plot the sample points with two different colors."
   ]
  },
  {
   "cell_type": "code",
   "execution_count": 25,
   "id": "69160bbe",
   "metadata": {},
   "outputs": [
    {
     "name": "stdout",
     "output_type": "stream",
     "text": [
      "Final estimated value of Pi:  3.072\n"
     ]
    },
    {
     "data": {
      "image/png": "[encoded data removed]",
      "text/plain": [
       "<Figure size 360x360 with 1 Axes>"
      ]
     },
     "metadata": {
      "needs_background": "light"
     },
     "output_type": "display_data"
    }
   ],
   "source": [
    "import numpy as np\n",
    "import matplotlib\n",
    " \n",
    "fig = plt.figure(figsize=(5, 5))\n",
    "\n",
    "\n",
    "n = 500\n",
    "inside = 0\n",
    "outside = 0\n",
    " \n",
    "# generate points in a square of side 1 unit\n",
    "X = np.random.uniform(0, 1, (n,1))\n",
    "Y = np.random.uniform(0, 1, (n,1))\n",
    " \n",
    "# arrays to plot the points\n",
    "X_inside = []\n",
    "Y_inside = []\n",
    "\n",
    "X_outside = []\n",
    "Y_outside = []\n",
    " \n",
    "for i in range(n):\n",
    "    x = X[i]\n",
    "    y = Y[i]\n",
    "    \n",
    "\n",
    "    if x**2+y**2<=1:\n",
    "        inside = inside + 1\n",
    "        X_inside.append(x)        \n",
    "        Y_inside.append(y)\n",
    "    else:\n",
    "        X_outside.append(x)\n",
    "        Y_outside.append(y)\n",
    "        \n",
    "\n",
    "plt.scatter(X_inside,Y_inside,c='pink', label='Inside the circle')\n",
    "plt.scatter(X_outside,Y_outside,c='green',label='Outside the circle')  \n",
    "plt.legend(loc=(0.3, 1.05))\n",
    "\n",
    "\n",
    "pi = 4*inside/n\n",
    "print(\"Final estimated value of Pi: \", pi)\n",
    "\n",
    "# print(*X_inside) # use * to print as an array"
   ]
  },
  {
   "cell_type": "markdown",
   "id": "75ded80f",
   "metadata": {},
   "source": [
    "   Your turn again: Plot a unit circle inscribed in a square centered at the origin. Perform a Monte Carlo simulation to estimate the area of the circle."
   ]
  },
  {
   "cell_type": "code",
   "execution_count": null,
   "id": "cad007ed",
   "metadata": {},
   "outputs": [],
   "source": [
    "# fig1 = plt.figure(1)\n",
    "# plt.xlim(-1,1)\n",
    "# plt.ylim(-1,1)\n",
    "# plt.legend()"
   ]
  }
 ],
 "metadata": {
  "kernelspec": {
   "display_name": "Python 3 (ipykernel)",
   "language": "python",
   "name": "python3"
  },
  "language_info": {
   "codemirror_mode": {
    "name": "ipython",
    "version": 3
   },
   "file_extension": ".py",
   "mimetype": "text/x-python",
   "name": "python",
   "nbconvert_exporter": "python",
   "pygments_lexer": "ipython3",
   "version": "3.9.12"
  }
 },
 "nbformat": 4,
 "nbformat_minor": 5
}
