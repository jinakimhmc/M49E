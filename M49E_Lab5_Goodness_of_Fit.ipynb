{
 "cells": [
  {
   "cell_type": "markdown",
   "id": "8ea7932b",
   "metadata": {},
   "source": [
    "# The Chi-square goodness of fit test"
   ]
  },
  {
   "cell_type": "markdown",
   "id": "b4177e86",
   "metadata": {},
   "source": [
    "#### WHAT IS IT?\n",
    "The Chi-square goodness of fit test is a hypothesis test used to determine whether a variable is likely to come from a specified distribution or not. Because the reference distribution for determining the p-value is a chi-squared\n",
    "distribution, the procedure is called a chi-squared goodness-of-fit test."
   ]
  },
  {
   "cell_type": "markdown",
   "id": "42cfbf59",
   "metadata": {},
   "source": [
    "#### HOW DOES IT WORK? \n",
    "\n",
    "The test statistic is based on how different the numbers of observations in the various categories are from the corresponding expected numbers when H0 is true.\n",
    "\n",
    "chi-square test statistic = how much the observed value differs from the expected value\n",
    "\n",
    "Null hypothesis: the variable has a predetermined distribution    \n",
    "Alternative hypotheses: the variable deviates from the expected distribution."
   ]
  },
  {
   "cell_type": "markdown",
   "id": "8bdcea9a",
   "metadata": {},
   "source": [
    "#### WHEN CAN I USE THE TEST?\n",
    "\n",
    "When you have counts of values for a categorical variable,\n",
    "\n",
    "you can use it to check whether the variable comes from a specified distribution. \n",
    "\n",
    "\n",
    "In other words, if you have a single measurement variable, you use a chi-square goodness of fit test. The degree of freedom is the number of categories minus one."
   ]
  },
  {
   "cell_type": "markdown",
   "id": "be8006a4",
   "metadata": {},
   "source": [
    "#### WHY DOES IT WORK? \n",
    "The observed probability distribution is compared with the expected probability distribution.\n",
    "\n",
    "More specifically, if the calculated value of Chi-Square goodness of fit test is greater than the table value, then the test will reject the null hypothesis and conclude that there is a significant difference between the observed and the expected frequency."
   ]
  },
  {
   "cell_type": "markdown",
   "id": "cf40c29c",
   "metadata": {},
   "source": [
    "We use chisquare() function from the scipy.stats module. <br> \n",
    "It helps us determine chi-square goodness-of-fit test statistic and p-value."
   ]
  },
  {
   "cell_type": "code",
   "execution_count": 4,
   "id": "fe71c192",
   "metadata": {},
   "outputs": [],
   "source": [
    "import scipy.stats as stat\n",
    "import numpy as np"
   ]
  },
  {
   "cell_type": "markdown",
   "id": "7a7cf918",
   "metadata": {},
   "source": [
    "The parameters of the chisquare function are: <br> \n",
    "obs_data: an array of observed data, and <br> \n",
    "exp_data: an array of expected values."
   ]
  },
  {
   "cell_type": "code",
   "execution_count": 37,
   "id": "161c6bec",
   "metadata": {},
   "outputs": [],
   "source": [
    "obs_data = [8, 6, 10, 7, 8, 11, 9]\n",
    "exp_data = [9, 8, 11, 8, 10, 7, 6]"
   ]
  },
  {
   "cell_type": "markdown",
   "id": "9bf0b713",
   "metadata": {},
   "source": [
    "Recall that every statistical test produces: <br>\n",
    "(1) a test statistic (that indicates how closely your data match the null hypothesis), and <br>\n",
    "(2) a corresponding p-value that tells you the probability of obtaining this result if the null hypothesis is true.\n",
    "\n",
    "<br>\n",
    "The p value determines statistical significance: <br>\n",
    "low p-value indicates high statistical significance, and <br>\n",
    "high p-value means low or no statistical significance."
   ]
  },
  {
   "cell_type": "code",
   "execution_count": 38,
   "id": "4b1c1c18",
   "metadata": {},
   "outputs": [
    {
     "name": "stdout",
     "output_type": "stream",
     "text": [
      "The chi-square test statistic is 5.0127344877344875\n",
      "The p-value of this hypothesis test is 0.542180861413329\n"
     ]
    }
   ],
   "source": [
    "# Chi-Square Goodness of Fit Test\n",
    "statistic, p_value = stats.chisquare(obs_data, exp_data)\n",
    "\n",
    "# print the values:\n",
    "print('The chi-square test statistic is ' + str(statistic))\n",
    "print('The p-value of this hypothesis test is ' + str(p_value))"
   ]
  },
  {
   "cell_type": "markdown",
   "id": "a3ed1929",
   "metadata": {},
   "source": [
    "#### What can we conclude about the goodness of fit of the observed data?\n",
    "\n",
    "?????"
   ]
  },
  {
   "cell_type": "markdown",
   "id": "94607e3f",
   "metadata": {},
   "source": [
    "A chi-square critical value is a threshold for statistical significance for the hypothesis test and defines confidence intervals for the parameter. <br>\n",
    "The degree of freedom in a chi-square goodness-of-fit test is: <br>\n",
    "df = (number of groups) - 1"
   ]
  },
  {
   "cell_type": "code",
   "execution_count": 13,
   "id": "25e5ad55",
   "metadata": {},
   "outputs": [
    {
     "name": "stdout",
     "output_type": "stream",
     "text": [
      "The chi-square critical value is 12.591587243743977\n"
     ]
    }
   ],
   "source": [
    "# find Chi-Square critical value\n",
    "critical_value = stats.chi2.ppf(1-0.05, df=6)\n",
    "\n",
    "print('The chi-square critical value is ' + str(critical_value))"
   ]
  },
  {
   "cell_type": "markdown",
   "id": "0e053e4d",
   "metadata": {},
   "source": [
    "### Group Exercise\n",
    "\n",
    "The article “Racial Stereotypes in Children’s Television Commercials” (J. of Adver. Res., 2008: 80–93) reported\n",
    "the following frequencies with which ethnic characters appeared in recorded commercials that aired on Philadelphia television stations.\n",
    "\n",
    "Ethnicity (Frequency):\n",
    "\n",
    "African American  (57) <br>\n",
    "Asian (11) <br>\n",
    "Caucasian (330) <br>\n",
    "Hispanic (6) <br>\n",
    " \n",
    "The 2000 census proportions for these four ethnic groups\n",
    "are .177, .032, .734, and .057, respectively. Does the data\n",
    "suggest that the proportions in commercials are different\n",
    "from the census proportions? Carry out a test of appropriate\n",
    "hypotheses using a significance level of .01.\n",
    "\n",
    "***here we have a single categorical variables"
   ]
  },
  {
   "cell_type": "code",
   "execution_count": 49,
   "id": "4c7d6284",
   "metadata": {},
   "outputs": [
    {
     "name": "stdout",
     "output_type": "stream",
     "text": [
      "The expected counts under H_0 are [ 71.508  12.928 296.536  23.028]\n"
     ]
    }
   ],
   "source": [
    "obs_data = [57, 11, 330, 6]\n",
    "sample_size = sum(obs_data)\n",
    "proportions = [.177, .032, .734, .057]\n",
    "\n",
    "# expected counts under the null hypothesis\n",
    "exp_data = sample_size*np.array(proportions)\n",
    "\n",
    "print('The expected counts under H_0 are ' + str(exp_data))"
   ]
  },
  {
   "cell_type": "code",
   "execution_count": 60,
   "id": "1f4d3612",
   "metadata": {},
   "outputs": [
    {
     "name": "stdout",
     "output_type": "stream",
     "text": [
      "The resulting chi-squared goodness-of-fit test is the test statistic 19.6 and the p-value 0.0002\n"
     ]
    }
   ],
   "source": [
    "# chi-squared goodness-of-fit test\n",
    "statistic, p_value = stats.chisquare(obs_data, exp_data)\n",
    "\n",
    "print('The resulting chi-squared goodness-of-fit test is the test statistic ' + str(round(statistic,2)) \n",
    "      + ' and the p-value ' + str(round(p_value,4)))"
   ]
  },
  {
   "cell_type": "markdown",
   "id": "18944e56",
   "metadata": {},
   "source": [
    "#### What's your conclusion?"
   ]
  },
  {
   "cell_type": "markdown",
   "id": "9fc83d2b",
   "metadata": {},
   "source": [
    "Hence, we strongly reject H_0 and conclude that at least one of the racial proportions in commercials is not a match to the census proportions."
   ]
  }
 ],
 "metadata": {
  "kernelspec": {
   "display_name": "Python 3 (ipykernel)",
   "language": "python",
   "name": "python3"
  },
  "language_info": {
   "codemirror_mode": {
    "name": "ipython",
    "version": 3
   },
   "file_extension": ".py",
   "mimetype": "text/x-python",
   "name": "python",
   "nbconvert_exporter": "python",
   "pygments_lexer": "ipython3",
   "version": "3.9.12"
  }
 },
 "nbformat": 4,
 "nbformat_minor": 5
}
