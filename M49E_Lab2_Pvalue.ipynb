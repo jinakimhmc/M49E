{
 "cells": [
  {
   "cell_type": "markdown",
   "id": "a7aac91a",
   "metadata": {},
   "source": [
    "# Finding P-Value from a T-Score in Python"
   ]
  },
  {
   "cell_type": "markdown",
   "id": "20664890",
   "metadata": {},
   "source": [
    "### In this hypoethesis test, we use a significance level of α = 0.05."
   ]
  },
  {
   "cell_type": "markdown",
   "id": "e755f7af",
   "metadata": {},
   "source": [
    "To find the p-value associated with a t-score in Python, we can use the scipy.stats.t.sf() function, which uses the following syntax:\n",
    "\n",
    "#### scipy.stats.t.sf(abs(x), df)\n",
    "\n",
    "where x is the t-score and df is the degrees of freedom."
   ]
  },
  {
   "cell_type": "markdown",
   "id": "6c0de640",
   "metadata": {},
   "source": [
    "### P-value in a left-tailed test:"
   ]
  },
  {
   "cell_type": "code",
   "execution_count": 22,
   "id": "6ed78e20",
   "metadata": {},
   "outputs": [
    {
     "name": "stdout",
     "output_type": "stream",
     "text": [
      "The p-value is : 0.3233906798700002\n"
     ]
    }
   ],
   "source": [
    "# Importing the library\n",
    "import scipy.stats \n",
    "\n",
    "# Determine the p-value\n",
    "p_value = scipy.stats.t.sf(abs(-.47), df=12)\n",
    "\n",
    "\n",
    "print('The p-value is : ' + str(p_value)) "
   ]
  },
  {
   "cell_type": "markdown",
   "id": "67ec3854",
   "metadata": {},
   "source": [
    "The null hypothesis is accepted because p-value > 0.05."
   ]
  },
  {
   "cell_type": "markdown",
   "id": "361493e0",
   "metadata": {},
   "source": [
    "Note: We use \"+\" because we need to convert the number to string first, in order to join them together."
   ]
  },
  {
   "cell_type": "markdown",
   "id": "64743d7f",
   "metadata": {},
   "source": [
    "### P-value in the right-tailed test:"
   ]
  },
  {
   "cell_type": "code",
   "execution_count": 17,
   "id": "229e6fa7",
   "metadata": {},
   "outputs": [
    {
     "data": {
      "text/plain": [
       "0.036865328383323424"
      ]
     },
     "execution_count": 17,
     "metadata": {},
     "output_type": "execute_result"
    }
   ],
   "source": [
    "scipy.stats.t.sf(abs(1.87), df=24)"
   ]
  },
  {
   "cell_type": "markdown",
   "id": "d6e99360",
   "metadata": {},
   "source": [
    "The p-value is 0.037. The null hypothesis is rejected because the p-value < 0.05."
   ]
  },
  {
   "cell_type": "markdown",
   "id": "ea346317",
   "metadata": {},
   "source": [
    "### P-value in the two-tailed test:"
   ]
  },
  {
   "cell_type": "code",
   "execution_count": 20,
   "id": "0a50aefc",
   "metadata": {},
   "outputs": [
    {
     "data": {
      "text/plain": [
       "0.18304931466593782"
      ]
     },
     "execution_count": 20,
     "metadata": {},
     "output_type": "execute_result"
    }
   ],
   "source": [
    "scipy.stats.t.sf(abs(1.36), df=33)*2"
   ]
  },
  {
   "cell_type": "markdown",
   "id": "233c0ebc",
   "metadata": {},
   "source": [
    "The p-value is 0.183. The null hypothesis is accepted because p-value > 0.05."
   ]
  },
  {
   "cell_type": "markdown",
   "id": "bc757ae6",
   "metadata": {},
   "source": [
    "# Finding P-Value from a Z-Score in Python"
   ]
  },
  {
   "cell_type": "markdown",
   "id": "98153b2e",
   "metadata": {},
   "source": [
    "### Left tailed or Lower tailed test"
   ]
  },
  {
   "cell_type": "code",
   "execution_count": 23,
   "id": "d8f52805",
   "metadata": {},
   "outputs": [
    {
     "name": "stdout",
     "output_type": "stream",
     "text": [
      "The p-value is : 0.25142889509531013\n"
     ]
    }
   ],
   "source": [
    "scipy.stats.norm.sf(abs(-0.67))"
   ]
  },
  {
   "cell_type": "markdown",
   "id": "8823bb66",
   "metadata": {},
   "source": [
    "Since p-value > 0.05, the alternative hypothesis is rejected and the null hypothesis is accepted."
   ]
  },
  {
   "cell_type": "markdown",
   "id": "75dc83ad",
   "metadata": {},
   "source": [
    "### Right tailed or upper tailed test"
   ]
  },
  {
   "cell_type": "code",
   "execution_count": 24,
   "id": "5a4d7980",
   "metadata": {},
   "outputs": [
    {
     "data": {
      "text/plain": [
       "0.04745968180294733"
      ]
     },
     "execution_count": 24,
     "metadata": {},
     "output_type": "execute_result"
    }
   ],
   "source": [
    "scipy.stats.norm.sf(abs(1.67))"
   ]
  },
  {
   "cell_type": "markdown",
   "id": "31495f0d",
   "metadata": {},
   "source": [
    "Since p-value < 0.05, the alternative hypothesis is accepted and null hypothesis is rejected."
   ]
  },
  {
   "cell_type": "markdown",
   "id": "b73702c0",
   "metadata": {},
   "source": [
    "### Two-tailed tests"
   ]
  },
  {
   "cell_type": "code",
   "execution_count": 26,
   "id": "4617f4a4",
   "metadata": {},
   "outputs": [
    {
     "data": {
      "text/plain": [
       "0.07186063822585158"
      ]
     },
     "execution_count": 26,
     "metadata": {},
     "output_type": "execute_result"
    }
   ],
   "source": [
    "scipy.stats.norm.sf(abs(1.8))*2"
   ]
  },
  {
   "cell_type": "markdown",
   "id": "e5520fef",
   "metadata": {},
   "source": [
    "Since p-value > 0.05, the alternative hypothesis is rejected and the null hypothesis is accepted."
   ]
  }
 ],
 "metadata": {
  "celltoolbar": "Raw Cell Format",
  "kernelspec": {
   "display_name": "Python 3 (ipykernel)",
   "language": "python",
   "name": "python3"
  },
  "language_info": {
   "codemirror_mode": {
    "name": "ipython",
    "version": 3
   },
   "file_extension": ".py",
   "mimetype": "text/x-python",
   "name": "python",
   "nbconvert_exporter": "python",
   "pygments_lexer": "ipython3",
   "version": "3.9.12"
  }
 },
 "nbformat": 4,
 "nbformat_minor": 5
}
