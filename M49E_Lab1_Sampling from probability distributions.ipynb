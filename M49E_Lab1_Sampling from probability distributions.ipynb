{
 "cells": [
  {
   "cell_type": "markdown",
   "id": "94997103",
   "metadata": {},
   "source": [
    "### Discrete Probability Distributions"
   ]
  },
  {
   "cell_type": "markdown",
   "id": "d6c0fa82",
   "metadata": {},
   "source": [
    "##### 0. Bernoulli Random Variables"
   ]
  },
  {
   "cell_type": "code",
   "execution_count": 87,
   "id": "49f8b0b7",
   "metadata": {},
   "outputs": [
    {
     "name": "stdout",
     "output_type": "stream",
     "text": [
      "0.5 0.25\n",
      "[0 0 0 0 0 0 0 1 0 1 1 1 0 1 0 1 0 1 1 0]\n"
     ]
    },
    {
     "data": {
      "text/plain": [
       "<seaborn.axisgrid.FacetGrid at 0x7fe20fb4c6a0>"
      ]
     },
     "execution_count": 87,
     "metadata": {},
     "output_type": "execute_result"
    },
    {
     "data": {
      "image/png": "[encoded data removed]",
      "text/plain": [
       "<Figure size 360x360 with 1 Axes>"
      ]
     },
     "metadata": {
      "needs_background": "light"
     },
     "output_type": "display_data"
    }
   ],
   "source": [
    "from scipy.stats import bernoulli\n",
    "import seaborn as sns\n",
    "\n",
    "# calculating mean and variance\n",
    "p = 0.5\n",
    "mean, var = bernoulli.stats(p)\n",
    "print(mean, var)\n",
    "\n",
    "# random numbers from bernoulli distribution\n",
    "samples = bernoulli.rvs(size=20,p=0.5)\n",
    "print(samples)\n",
    "\n",
    "# plot the samples\n",
    "sns.displot(samples)"
   ]
  },
  {
   "cell_type": "markdown",
   "id": "805c8214",
   "metadata": {},
   "source": [
    "##### 1. Binomial Random Variables"
   ]
  },
  {
   "cell_type": "code",
   "execution_count": 88,
   "id": "8458d989",
   "metadata": {},
   "outputs": [
    {
     "name": "stdout",
     "output_type": "stream",
     "text": [
      "10.0 5.0\n",
      "[13  8 10  9 13 11 14  7 11 12 10 12  9  8 12  8 13  8 12  8]\n"
     ]
    },
    {
     "data": {
      "text/plain": [
       "<seaborn.axisgrid.FacetGrid at 0x7fe20ee44b50>"
      ]
     },
     "execution_count": 88,
     "metadata": {},
     "output_type": "execute_result"
    },
    {
     "data": {
      "image/png": "[encoded data removed]",
      "text/plain": [
       "<Figure size 360x360 with 1 Axes>"
      ]
     },
     "metadata": {
      "needs_background": "light"
     },
     "output_type": "display_data"
    }
   ],
   "source": [
    "import numpy as np\n",
    "from scipy.stats import binom\n",
    "import seaborn as sns\n",
    "\n",
    "# calculating mean and variance\n",
    "n,p = 20,0.5\n",
    "mean, var = binom.stats(n, p)\n",
    "print(mean, var)\n",
    "\n",
    "# random numbers from binomial distribution\n",
    "samples = binom.rvs(n, p, size=20)\n",
    "print(samples)\n",
    "\n",
    "# plot the samples\n",
    "sns.displot(samples)\n",
    "\n",
    "# bins are the number of intervals you want to divide all of your data into"
   ]
  },
  {
   "cell_type": "markdown",
   "id": "9799faed",
   "metadata": {},
   "source": [
    "#### 2. Poisson Random Variables"
   ]
  },
  {
   "cell_type": "code",
   "execution_count": 114,
   "id": "0f09c61f",
   "metadata": {},
   "outputs": [
    {
     "name": "stdout",
     "output_type": "stream",
     "text": [
      "2.0 2.0\n"
     ]
    },
    {
     "data": {
      "text/plain": [
       "<seaborn.axisgrid.FacetGrid at 0x7fe21442ed60>"
      ]
     },
     "execution_count": 114,
     "metadata": {},
     "output_type": "execute_result"
    },
    {
     "data": {
      "image/png": "[encoded data removed]",
      "text/plain": [
       "<Figure size 360x360 with 1 Axes>"
      ]
     },
     "metadata": {
      "needs_background": "light"
     },
     "output_type": "display_data"
    }
   ],
   "source": [
    "from scipy.stats import poisson\n",
    "\n",
    "# calculating mean and variance\n",
    "mu = 2\n",
    "mean, var = poisson.stats(mu)\n",
    "print(mean, var)\n",
    "\n",
    "# random numbers from Poisson distribution\n",
    "samples = poisson.rvs(mu, size=50)\n",
    "\n",
    "# bins divide the entire range of values into a series of intervals \n",
    "# and then count how many values fall into each interval\n",
    "sns.displot(samples, bins=20) "
   ]
  },
  {
   "cell_type": "markdown",
   "id": "65785bae",
   "metadata": {},
   "source": [
    "#### 3. Uniform Random Variables"
   ]
  },
  {
   "cell_type": "code",
   "execution_count": 221,
   "id": "c3bfb200",
   "metadata": {},
   "outputs": [
    {
     "name": "stdout",
     "output_type": "stream",
     "text": [
      "0.5 0.08333333333333333\n"
     ]
    },
    {
     "data": {
      "text/plain": [
       "<seaborn.axisgrid.FacetGrid at 0x7fe1fef00580>"
      ]
     },
     "execution_count": 221,
     "metadata": {},
     "output_type": "execute_result"
    },
    {
     "data": {
      "image/png": "[encoded data removed]",
      "text/plain": [
       "<Figure size 360x360 with 1 Axes>"
      ]
     },
     "metadata": {
      "needs_background": "light"
     },
     "output_type": "display_data"
    }
   ],
   "source": [
    "from scipy.stats import uniform\n",
    "\n",
    "# calculating mean and variance\n",
    "# the uniform distribution on [loc, loc + scale]\n",
    "mean,var = uniform.stats(0,1) \n",
    "print(mean,var)\n",
    "\n",
    "# random numbers from normal distribution\n",
    "samples = uniform.rvs(0,1,size=100)\n",
    "\n",
    "# plot the samples\n",
    "sns.displot(samples,bins=5)"
   ]
  },
  {
   "cell_type": "markdown",
   "id": "b3b6be1d",
   "metadata": {},
   "source": [
    "### Continuous Probability Distributions"
   ]
  },
  {
   "cell_type": "markdown",
   "id": "ea97eb78",
   "metadata": {},
   "source": [
    "##### 1. Normal Random Variables"
   ]
  },
  {
   "cell_type": "code",
   "execution_count": 212,
   "id": "cebda11e",
   "metadata": {},
   "outputs": [
    {
     "name": "stdout",
     "output_type": "stream",
     "text": [
      "0.0 1.0\n",
      "The median is 0.0\n",
      "The 99th percentile is 2.326\n"
     ]
    },
    {
     "data": {
      "text/plain": [
       "<seaborn.axisgrid.FacetGrid at 0x7fe1fe49ed90>"
      ]
     },
     "execution_count": 212,
     "metadata": {},
     "output_type": "execute_result"
    },
    {
     "data": {
      "image/png": "[encoded data removed]",
      "text/plain": [
       "<Figure size 360x360 with 1 Axes>"
      ]
     },
     "metadata": {
      "needs_background": "light"
     },
     "output_type": "display_data"
    }
   ],
   "source": [
    "from scipy.stats import norm\n",
    "\n",
    "# calculating mean and variance\n",
    "# loc = mean & scale = sd\n",
    "mean,var = norm.stats(loc=0,scale=1)\n",
    "print(mean,var)\n",
    "\n",
    "# median\n",
    "median = norm.median(0,1)\n",
    "print('The median is ' + str(median))\n",
    "\n",
    "# ppf = percent point function = inverse of cdf = percentiles\n",
    "percentile = norm.ppf(0.99)\n",
    "print('The 99th percentile is ' + str(round(percentile,3)))\n",
    "\n",
    "# random numbers from normal distribution\n",
    "samples = norm.rvs(0,1,size=500)\n",
    "# print(samples)\n",
    "\n",
    "# plot the samples\n",
    "sns.displot(samples, bins=50)"
   ]
  },
  {
   "cell_type": "markdown",
   "id": "e14489f1",
   "metadata": {},
   "source": [
    "##### 2. Exponential Random Variables"
   ]
  },
  {
   "cell_type": "code",
   "execution_count": 216,
   "id": "661f1e66",
   "metadata": {},
   "outputs": [
    {
     "name": "stdout",
     "output_type": "stream",
     "text": [
      "The mean is 3.0 and the variance is 9.0\n"
     ]
    },
    {
     "data": {
      "text/plain": [
       "<seaborn.axisgrid.FacetGrid at 0x7fe1ff8366d0>"
      ]
     },
     "execution_count": 216,
     "metadata": {},
     "output_type": "execute_result"
    },
    {
     "data": {
      "image/png": "[encoded data removed]",
      "text/plain": [
       "<Figure size 360x360 with 1 Axes>"
      ]
     },
     "metadata": {
      "needs_background": "light"
     },
     "output_type": "display_data"
    }
   ],
   "source": [
    "from scipy.stats import expon\n",
    "\n",
    "# calculating mean and variance\n",
    "# scale = mean = 1/lambda\n",
    "mean, var = expon.stats(scale=3)\n",
    "print('The mean is ' + str(mean) + ' and ' + 'the variance is '+str(var))\n",
    "\n",
    "# random numbers from exponential distribution\n",
    "samples = expon.rvs(scale=3,size=500)\n",
    "\n",
    "# plot the samples\n",
    "sns.displot(samples,bins=20)"
   ]
  },
  {
   "cell_type": "markdown",
   "id": "3ba9ee14",
   "metadata": {},
   "source": [
    "##### 3. Gamma Random Variables (HW 3 Problem 6)"
   ]
  },
  {
   "cell_type": "code",
   "execution_count": 210,
   "id": "d964688e",
   "metadata": {},
   "outputs": [
    {
     "name": "stdout",
     "output_type": "stream",
     "text": [
      "6.0 12.0\n"
     ]
    }
   ],
   "source": [
    "from scipy.stats import gamma\n",
    "\n",
    "# calculating mean and variance\n",
    "# a = alpha, scale = beta\n",
    "mean, var = gamma.stats(a=3, scale=2)\n",
    "print(mean, var)"
   ]
  }
 ],
 "metadata": {
  "kernelspec": {
   "display_name": "Python 3 (ipykernel)",
   "language": "python",
   "name": "python3"
  },
  "language_info": {
   "codemirror_mode": {
    "name": "ipython",
    "version": 3
   },
   "file_extension": ".py",
   "mimetype": "text/x-python",
   "name": "python",
   "nbconvert_exporter": "python",
   "pygments_lexer": "ipython3",
   "version": "3.9.12"
  }
 },
 "nbformat": 4,
 "nbformat_minor": 5
}
